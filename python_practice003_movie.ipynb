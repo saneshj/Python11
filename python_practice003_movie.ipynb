{
  "nbformat": 4,
  "nbformat_minor": 0,
  "metadata": {
    "colab": {
      "name": "python_practice001.ipynb",
      "provenance": [],
      "collapsed_sections": [],
      "authorship_tag": "ABX9TyMv5KTcct0ENqMFEXkJKL9i"
    },
    "kernelspec": {
      "name": "python3",
      "display_name": "Python 3"
    },
    "language_info": {
      "name": "python"
    }
  },
  "cells": [
    {
      "cell_type": "code",
      "execution_count": 1,
      "metadata": {
        "id": "qDwu3U6l2t3T"
      },
      "outputs": [],
      "source": [
        "import pandas as pd\n",
        "import numpy as np\n",
        "import matplotlib.pyplot as plt"
      ]
    },
    {
      "cell_type": "code",
      "source": [
        "url =\"https://raw.githubusercontent.com/saneshj/Python11/main/DS11/Datasets-master/cars.csv\"\n",
        "dataset1 = pd.read_csv(url)\n",
        "dataset1.head()"
      ],
      "metadata": {
        "colab": {
          "base_uri": "https://localhost:8080/",
          "height": 302
        },
        "id": "AsEIUr-E-Mn3",
        "outputId": "923f81fc-862d-4127-eff4-70280675e32b"
      },
      "execution_count": 2,
      "outputs": [
        {
          "output_type": "execute_result",
          "data": {
            "text/plain": [
              "   YEAR        Make           Model        Size  (kW) Unnamed: 5 TYPE  \\\n",
              "0  2012  MITSUBISHI          i-MiEV  SUBCOMPACT    49         A1    B   \n",
              "1  2012      NISSAN            LEAF    MID-SIZE    80         A1    B   \n",
              "2  2013        FORD  FOCUS ELECTRIC     COMPACT   107         A1    B   \n",
              "3  2013  MITSUBISHI          i-MiEV  SUBCOMPACT    49         A1    B   \n",
              "4  2013      NISSAN            LEAF    MID-SIZE    80         A1    B   \n",
              "\n",
              "   CITY (kWh/100 km)  HWY (kWh/100 km)  COMB (kWh/100 km)  CITY (Le/100 km)  \\\n",
              "0               16.9              21.4               18.7               1.9   \n",
              "1               19.3              23.0               21.1               2.2   \n",
              "2               19.0              21.1               20.0               2.1   \n",
              "3               16.9              21.4               18.7               1.9   \n",
              "4               19.3              23.0               21.1               2.2   \n",
              "\n",
              "   HWY (Le/100 km)  COMB (Le/100 km)  (g/km)  RATING  (km)  TIME (h)  \n",
              "0              2.4               2.1       0     NaN   100         7  \n",
              "1              2.6               2.4       0     NaN   117         7  \n",
              "2              2.4               2.2       0     NaN   122         4  \n",
              "3              2.4               2.1       0     NaN   100         7  \n",
              "4              2.6               2.4       0     NaN   117         7  "
            ],
            "text/html": [
              "\n",
              "  <div id=\"df-af8bd91a-4df8-459a-b533-32dbf7611c10\">\n",
              "    <div class=\"colab-df-container\">\n",
              "      <div>\n",
              "<style scoped>\n",
              "    .dataframe tbody tr th:only-of-type {\n",
              "        vertical-align: middle;\n",
              "    }\n",
              "\n",
              "    .dataframe tbody tr th {\n",
              "        vertical-align: top;\n",
              "    }\n",
              "\n",
              "    .dataframe thead th {\n",
              "        text-align: right;\n",
              "    }\n",
              "</style>\n",
              "<table border=\"1\" class=\"dataframe\">\n",
              "  <thead>\n",
              "    <tr style=\"text-align: right;\">\n",
              "      <th></th>\n",
              "      <th>YEAR</th>\n",
              "      <th>Make</th>\n",
              "      <th>Model</th>\n",
              "      <th>Size</th>\n",
              "      <th>(kW)</th>\n",
              "      <th>Unnamed: 5</th>\n",
              "      <th>TYPE</th>\n",
              "      <th>CITY (kWh/100 km)</th>\n",
              "      <th>HWY (kWh/100 km)</th>\n",
              "      <th>COMB (kWh/100 km)</th>\n",
              "      <th>CITY (Le/100 km)</th>\n",
              "      <th>HWY (Le/100 km)</th>\n",
              "      <th>COMB (Le/100 km)</th>\n",
              "      <th>(g/km)</th>\n",
              "      <th>RATING</th>\n",
              "      <th>(km)</th>\n",
              "      <th>TIME (h)</th>\n",
              "    </tr>\n",
              "  </thead>\n",
              "  <tbody>\n",
              "    <tr>\n",
              "      <th>0</th>\n",
              "      <td>2012</td>\n",
              "      <td>MITSUBISHI</td>\n",
              "      <td>i-MiEV</td>\n",
              "      <td>SUBCOMPACT</td>\n",
              "      <td>49</td>\n",
              "      <td>A1</td>\n",
              "      <td>B</td>\n",
              "      <td>16.9</td>\n",
              "      <td>21.4</td>\n",
              "      <td>18.7</td>\n",
              "      <td>1.9</td>\n",
              "      <td>2.4</td>\n",
              "      <td>2.1</td>\n",
              "      <td>0</td>\n",
              "      <td>NaN</td>\n",
              "      <td>100</td>\n",
              "      <td>7</td>\n",
              "    </tr>\n",
              "    <tr>\n",
              "      <th>1</th>\n",
              "      <td>2012</td>\n",
              "      <td>NISSAN</td>\n",
              "      <td>LEAF</td>\n",
              "      <td>MID-SIZE</td>\n",
              "      <td>80</td>\n",
              "      <td>A1</td>\n",
              "      <td>B</td>\n",
              "      <td>19.3</td>\n",
              "      <td>23.0</td>\n",
              "      <td>21.1</td>\n",
              "      <td>2.2</td>\n",
              "      <td>2.6</td>\n",
              "      <td>2.4</td>\n",
              "      <td>0</td>\n",
              "      <td>NaN</td>\n",
              "      <td>117</td>\n",
              "      <td>7</td>\n",
              "    </tr>\n",
              "    <tr>\n",
              "      <th>2</th>\n",
              "      <td>2013</td>\n",
              "      <td>FORD</td>\n",
              "      <td>FOCUS ELECTRIC</td>\n",
              "      <td>COMPACT</td>\n",
              "      <td>107</td>\n",
              "      <td>A1</td>\n",
              "      <td>B</td>\n",
              "      <td>19.0</td>\n",
              "      <td>21.1</td>\n",
              "      <td>20.0</td>\n",
              "      <td>2.1</td>\n",
              "      <td>2.4</td>\n",
              "      <td>2.2</td>\n",
              "      <td>0</td>\n",
              "      <td>NaN</td>\n",
              "      <td>122</td>\n",
              "      <td>4</td>\n",
              "    </tr>\n",
              "    <tr>\n",
              "      <th>3</th>\n",
              "      <td>2013</td>\n",
              "      <td>MITSUBISHI</td>\n",
              "      <td>i-MiEV</td>\n",
              "      <td>SUBCOMPACT</td>\n",
              "      <td>49</td>\n",
              "      <td>A1</td>\n",
              "      <td>B</td>\n",
              "      <td>16.9</td>\n",
              "      <td>21.4</td>\n",
              "      <td>18.7</td>\n",
              "      <td>1.9</td>\n",
              "      <td>2.4</td>\n",
              "      <td>2.1</td>\n",
              "      <td>0</td>\n",
              "      <td>NaN</td>\n",
              "      <td>100</td>\n",
              "      <td>7</td>\n",
              "    </tr>\n",
              "    <tr>\n",
              "      <th>4</th>\n",
              "      <td>2013</td>\n",
              "      <td>NISSAN</td>\n",
              "      <td>LEAF</td>\n",
              "      <td>MID-SIZE</td>\n",
              "      <td>80</td>\n",
              "      <td>A1</td>\n",
              "      <td>B</td>\n",
              "      <td>19.3</td>\n",
              "      <td>23.0</td>\n",
              "      <td>21.1</td>\n",
              "      <td>2.2</td>\n",
              "      <td>2.6</td>\n",
              "      <td>2.4</td>\n",
              "      <td>0</td>\n",
              "      <td>NaN</td>\n",
              "      <td>117</td>\n",
              "      <td>7</td>\n",
              "    </tr>\n",
              "  </tbody>\n",
              "</table>\n",
              "</div>\n",
              "      <button class=\"colab-df-convert\" onclick=\"convertToInteractive('df-af8bd91a-4df8-459a-b533-32dbf7611c10')\"\n",
              "              title=\"Convert this dataframe to an interactive table.\"\n",
              "              style=\"display:none;\">\n",
              "        \n",
              "  <svg xmlns=\"http://www.w3.org/2000/svg\" height=\"24px\"viewBox=\"0 0 24 24\"\n",
              "       width=\"24px\">\n",
              "    <path d=\"M0 0h24v24H0V0z\" fill=\"none\"/>\n",
              "    <path d=\"M18.56 5.44l.94 2.06.94-2.06 2.06-.94-2.06-.94-.94-2.06-.94 2.06-2.06.94zm-11 1L8.5 8.5l.94-2.06 2.06-.94-2.06-.94L8.5 2.5l-.94 2.06-2.06.94zm10 10l.94 2.06.94-2.06 2.06-.94-2.06-.94-.94-2.06-.94 2.06-2.06.94z\"/><path d=\"M17.41 7.96l-1.37-1.37c-.4-.4-.92-.59-1.43-.59-.52 0-1.04.2-1.43.59L10.3 9.45l-7.72 7.72c-.78.78-.78 2.05 0 2.83L4 21.41c.39.39.9.59 1.41.59.51 0 1.02-.2 1.41-.59l7.78-7.78 2.81-2.81c.8-.78.8-2.07 0-2.86zM5.41 20L4 18.59l7.72-7.72 1.47 1.35L5.41 20z\"/>\n",
              "  </svg>\n",
              "      </button>\n",
              "      \n",
              "  <style>\n",
              "    .colab-df-container {\n",
              "      display:flex;\n",
              "      flex-wrap:wrap;\n",
              "      gap: 12px;\n",
              "    }\n",
              "\n",
              "    .colab-df-convert {\n",
              "      background-color: #E8F0FE;\n",
              "      border: none;\n",
              "      border-radius: 50%;\n",
              "      cursor: pointer;\n",
              "      display: none;\n",
              "      fill: #1967D2;\n",
              "      height: 32px;\n",
              "      padding: 0 0 0 0;\n",
              "      width: 32px;\n",
              "    }\n",
              "\n",
              "    .colab-df-convert:hover {\n",
              "      background-color: #E2EBFA;\n",
              "      box-shadow: 0px 1px 2px rgba(60, 64, 67, 0.3), 0px 1px 3px 1px rgba(60, 64, 67, 0.15);\n",
              "      fill: #174EA6;\n",
              "    }\n",
              "\n",
              "    [theme=dark] .colab-df-convert {\n",
              "      background-color: #3B4455;\n",
              "      fill: #D2E3FC;\n",
              "    }\n",
              "\n",
              "    [theme=dark] .colab-df-convert:hover {\n",
              "      background-color: #434B5C;\n",
              "      box-shadow: 0px 1px 3px 1px rgba(0, 0, 0, 0.15);\n",
              "      filter: drop-shadow(0px 1px 2px rgba(0, 0, 0, 0.3));\n",
              "      fill: #FFFFFF;\n",
              "    }\n",
              "  </style>\n",
              "\n",
              "      <script>\n",
              "        const buttonEl =\n",
              "          document.querySelector('#df-af8bd91a-4df8-459a-b533-32dbf7611c10 button.colab-df-convert');\n",
              "        buttonEl.style.display =\n",
              "          google.colab.kernel.accessAllowed ? 'block' : 'none';\n",
              "\n",
              "        async function convertToInteractive(key) {\n",
              "          const element = document.querySelector('#df-af8bd91a-4df8-459a-b533-32dbf7611c10');\n",
              "          const dataTable =\n",
              "            await google.colab.kernel.invokeFunction('convertToInteractive',\n",
              "                                                     [key], {});\n",
              "          if (!dataTable) return;\n",
              "\n",
              "          const docLinkHtml = 'Like what you see? Visit the ' +\n",
              "            '<a target=\"_blank\" href=https://colab.research.google.com/notebooks/data_table.ipynb>data table notebook</a>'\n",
              "            + ' to learn more about interactive tables.';\n",
              "          element.innerHTML = '';\n",
              "          dataTable['output_type'] = 'display_data';\n",
              "          await google.colab.output.renderOutput(dataTable, element);\n",
              "          const docLink = document.createElement('div');\n",
              "          docLink.innerHTML = docLinkHtml;\n",
              "          element.appendChild(docLink);\n",
              "        }\n",
              "      </script>\n",
              "    </div>\n",
              "  </div>\n",
              "  "
            ]
          },
          "metadata": {},
          "execution_count": 2
        }
      ]
    },
    {
      "cell_type": "code",
      "source": [
        "dataset1.shape"
      ],
      "metadata": {
        "colab": {
          "base_uri": "https://localhost:8080/"
        },
        "id": "ZluA-fRfDs9O",
        "outputId": "eb0fb0a4-2b8e-4a3d-8a7e-7aeafc13b959"
      },
      "execution_count": null,
      "outputs": [
        {
          "output_type": "execute_result",
          "data": {
            "text/plain": [
              "(53, 17)"
            ]
          },
          "metadata": {},
          "execution_count": 13
        }
      ]
    },
    {
      "cell_type": "code",
      "source": [
        "dataset1.info()"
      ],
      "metadata": {
        "colab": {
          "base_uri": "https://localhost:8080/"
        },
        "id": "gen1m_6XFBFf",
        "outputId": "66197e57-d301-4b73-ed30-4b793d5f95e9"
      },
      "execution_count": null,
      "outputs": [
        {
          "output_type": "stream",
          "name": "stdout",
          "text": [
            "<class 'pandas.core.frame.DataFrame'>\n",
            "RangeIndex: 53 entries, 0 to 52\n",
            "Data columns (total 17 columns):\n",
            " #   Column             Non-Null Count  Dtype  \n",
            "---  ------             --------------  -----  \n",
            " 0   YEAR               53 non-null     int64  \n",
            " 1   Make               53 non-null     object \n",
            " 2   Model              53 non-null     object \n",
            " 3   Size               53 non-null     object \n",
            " 4   (kW)               53 non-null     int64  \n",
            " 5   Unnamed: 5         53 non-null     object \n",
            " 6   TYPE               53 non-null     object \n",
            " 7   CITY (kWh/100 km)  53 non-null     float64\n",
            " 8   HWY (kWh/100 km)   53 non-null     float64\n",
            " 9   COMB (kWh/100 km)  53 non-null     float64\n",
            " 10  CITY (Le/100 km)   53 non-null     float64\n",
            " 11  HWY (Le/100 km)    53 non-null     float64\n",
            " 12  COMB (Le/100 km)   53 non-null     float64\n",
            " 13  (g/km)             53 non-null     int64  \n",
            " 14  RATING             19 non-null     float64\n",
            " 15  (km)               53 non-null     int64  \n",
            " 16  TIME (h)           53 non-null     int64  \n",
            "dtypes: float64(7), int64(5), object(5)\n",
            "memory usage: 7.2+ KB\n"
          ]
        }
      ]
    },
    {
      "cell_type": "code",
      "source": [
        "dataset1.describe()"
      ],
      "metadata": {
        "colab": {
          "base_uri": "https://localhost:8080/",
          "height": 362
        },
        "id": "AD0ArjkZFGfD",
        "outputId": "1e1308f7-3b5b-45a1-df7f-639ab2297987"
      },
      "execution_count": null,
      "outputs": [
        {
          "output_type": "execute_result",
          "data": {
            "text/plain": [
              "              YEAR        (kW)  CITY (kWh/100 km)  HWY (kWh/100 km)  \\\n",
              "count    53.000000   53.000000           53.00000         53.000000   \n",
              "mean   2014.735849  190.622642           19.64717         21.633962   \n",
              "std       1.227113  155.526429            3.00100          1.245753   \n",
              "min    2012.000000   35.000000           15.20000         18.800000   \n",
              "25%    2014.000000   80.000000           17.00000         20.800000   \n",
              "50%    2015.000000  107.000000           19.00000         21.700000   \n",
              "75%    2016.000000  283.000000           22.40000         22.500000   \n",
              "max    2016.000000  568.000000           23.90000         23.300000   \n",
              "\n",
              "       COMB (kWh/100 km)  CITY (Le/100 km)  HWY (Le/100 km)  COMB (Le/100 km)  \\\n",
              "count          53.000000         53.000000        53.000000         53.000000   \n",
              "mean           20.541509          2.207547         2.422642          2.301887   \n",
              "std             1.979455          0.344656         0.143636          0.212576   \n",
              "min            16.800000          1.700000         2.100000          1.900000   \n",
              "25%            18.700000          1.900000         2.300000          2.100000   \n",
              "50%            20.000000          2.100000         2.400000          2.200000   \n",
              "75%            22.100000          2.500000         2.500000          2.500000   \n",
              "max            23.600000          2.700000         2.600000          2.600000   \n",
              "\n",
              "       (g/km)  RATING        (km)   TIME (h)  \n",
              "count    53.0    19.0   53.000000  53.000000  \n",
              "mean      0.0    10.0  239.169811   8.471698  \n",
              "std       0.0     0.0  141.426352   2.991036  \n",
              "min       0.0    10.0  100.000000   4.000000  \n",
              "25%       0.0    10.0  117.000000   7.000000  \n",
              "50%       0.0    10.0  135.000000   8.000000  \n",
              "75%       0.0    10.0  402.000000  12.000000  \n",
              "max       0.0    10.0  473.000000  12.000000  "
            ],
            "text/html": [
              "\n",
              "  <div id=\"df-ce876b62-8761-477f-8c96-f213599092c3\">\n",
              "    <div class=\"colab-df-container\">\n",
              "      <div>\n",
              "<style scoped>\n",
              "    .dataframe tbody tr th:only-of-type {\n",
              "        vertical-align: middle;\n",
              "    }\n",
              "\n",
              "    .dataframe tbody tr th {\n",
              "        vertical-align: top;\n",
              "    }\n",
              "\n",
              "    .dataframe thead th {\n",
              "        text-align: right;\n",
              "    }\n",
              "</style>\n",
              "<table border=\"1\" class=\"dataframe\">\n",
              "  <thead>\n",
              "    <tr style=\"text-align: right;\">\n",
              "      <th></th>\n",
              "      <th>YEAR</th>\n",
              "      <th>(kW)</th>\n",
              "      <th>CITY (kWh/100 km)</th>\n",
              "      <th>HWY (kWh/100 km)</th>\n",
              "      <th>COMB (kWh/100 km)</th>\n",
              "      <th>CITY (Le/100 km)</th>\n",
              "      <th>HWY (Le/100 km)</th>\n",
              "      <th>COMB (Le/100 km)</th>\n",
              "      <th>(g/km)</th>\n",
              "      <th>RATING</th>\n",
              "      <th>(km)</th>\n",
              "      <th>TIME (h)</th>\n",
              "    </tr>\n",
              "  </thead>\n",
              "  <tbody>\n",
              "    <tr>\n",
              "      <th>count</th>\n",
              "      <td>53.000000</td>\n",
              "      <td>53.000000</td>\n",
              "      <td>53.00000</td>\n",
              "      <td>53.000000</td>\n",
              "      <td>53.000000</td>\n",
              "      <td>53.000000</td>\n",
              "      <td>53.000000</td>\n",
              "      <td>53.000000</td>\n",
              "      <td>53.0</td>\n",
              "      <td>19.0</td>\n",
              "      <td>53.000000</td>\n",
              "      <td>53.000000</td>\n",
              "    </tr>\n",
              "    <tr>\n",
              "      <th>mean</th>\n",
              "      <td>2014.735849</td>\n",
              "      <td>190.622642</td>\n",
              "      <td>19.64717</td>\n",
              "      <td>21.633962</td>\n",
              "      <td>20.541509</td>\n",
              "      <td>2.207547</td>\n",
              "      <td>2.422642</td>\n",
              "      <td>2.301887</td>\n",
              "      <td>0.0</td>\n",
              "      <td>10.0</td>\n",
              "      <td>239.169811</td>\n",
              "      <td>8.471698</td>\n",
              "    </tr>\n",
              "    <tr>\n",
              "      <th>std</th>\n",
              "      <td>1.227113</td>\n",
              "      <td>155.526429</td>\n",
              "      <td>3.00100</td>\n",
              "      <td>1.245753</td>\n",
              "      <td>1.979455</td>\n",
              "      <td>0.344656</td>\n",
              "      <td>0.143636</td>\n",
              "      <td>0.212576</td>\n",
              "      <td>0.0</td>\n",
              "      <td>0.0</td>\n",
              "      <td>141.426352</td>\n",
              "      <td>2.991036</td>\n",
              "    </tr>\n",
              "    <tr>\n",
              "      <th>min</th>\n",
              "      <td>2012.000000</td>\n",
              "      <td>35.000000</td>\n",
              "      <td>15.20000</td>\n",
              "      <td>18.800000</td>\n",
              "      <td>16.800000</td>\n",
              "      <td>1.700000</td>\n",
              "      <td>2.100000</td>\n",
              "      <td>1.900000</td>\n",
              "      <td>0.0</td>\n",
              "      <td>10.0</td>\n",
              "      <td>100.000000</td>\n",
              "      <td>4.000000</td>\n",
              "    </tr>\n",
              "    <tr>\n",
              "      <th>25%</th>\n",
              "      <td>2014.000000</td>\n",
              "      <td>80.000000</td>\n",
              "      <td>17.00000</td>\n",
              "      <td>20.800000</td>\n",
              "      <td>18.700000</td>\n",
              "      <td>1.900000</td>\n",
              "      <td>2.300000</td>\n",
              "      <td>2.100000</td>\n",
              "      <td>0.0</td>\n",
              "      <td>10.0</td>\n",
              "      <td>117.000000</td>\n",
              "      <td>7.000000</td>\n",
              "    </tr>\n",
              "    <tr>\n",
              "      <th>50%</th>\n",
              "      <td>2015.000000</td>\n",
              "      <td>107.000000</td>\n",
              "      <td>19.00000</td>\n",
              "      <td>21.700000</td>\n",
              "      <td>20.000000</td>\n",
              "      <td>2.100000</td>\n",
              "      <td>2.400000</td>\n",
              "      <td>2.200000</td>\n",
              "      <td>0.0</td>\n",
              "      <td>10.0</td>\n",
              "      <td>135.000000</td>\n",
              "      <td>8.000000</td>\n",
              "    </tr>\n",
              "    <tr>\n",
              "      <th>75%</th>\n",
              "      <td>2016.000000</td>\n",
              "      <td>283.000000</td>\n",
              "      <td>22.40000</td>\n",
              "      <td>22.500000</td>\n",
              "      <td>22.100000</td>\n",
              "      <td>2.500000</td>\n",
              "      <td>2.500000</td>\n",
              "      <td>2.500000</td>\n",
              "      <td>0.0</td>\n",
              "      <td>10.0</td>\n",
              "      <td>402.000000</td>\n",
              "      <td>12.000000</td>\n",
              "    </tr>\n",
              "    <tr>\n",
              "      <th>max</th>\n",
              "      <td>2016.000000</td>\n",
              "      <td>568.000000</td>\n",
              "      <td>23.90000</td>\n",
              "      <td>23.300000</td>\n",
              "      <td>23.600000</td>\n",
              "      <td>2.700000</td>\n",
              "      <td>2.600000</td>\n",
              "      <td>2.600000</td>\n",
              "      <td>0.0</td>\n",
              "      <td>10.0</td>\n",
              "      <td>473.000000</td>\n",
              "      <td>12.000000</td>\n",
              "    </tr>\n",
              "  </tbody>\n",
              "</table>\n",
              "</div>\n",
              "      <button class=\"colab-df-convert\" onclick=\"convertToInteractive('df-ce876b62-8761-477f-8c96-f213599092c3')\"\n",
              "              title=\"Convert this dataframe to an interactive table.\"\n",
              "              style=\"display:none;\">\n",
              "        \n",
              "  <svg xmlns=\"http://www.w3.org/2000/svg\" height=\"24px\"viewBox=\"0 0 24 24\"\n",
              "       width=\"24px\">\n",
              "    <path d=\"M0 0h24v24H0V0z\" fill=\"none\"/>\n",
              "    <path d=\"M18.56 5.44l.94 2.06.94-2.06 2.06-.94-2.06-.94-.94-2.06-.94 2.06-2.06.94zm-11 1L8.5 8.5l.94-2.06 2.06-.94-2.06-.94L8.5 2.5l-.94 2.06-2.06.94zm10 10l.94 2.06.94-2.06 2.06-.94-2.06-.94-.94-2.06-.94 2.06-2.06.94z\"/><path d=\"M17.41 7.96l-1.37-1.37c-.4-.4-.92-.59-1.43-.59-.52 0-1.04.2-1.43.59L10.3 9.45l-7.72 7.72c-.78.78-.78 2.05 0 2.83L4 21.41c.39.39.9.59 1.41.59.51 0 1.02-.2 1.41-.59l7.78-7.78 2.81-2.81c.8-.78.8-2.07 0-2.86zM5.41 20L4 18.59l7.72-7.72 1.47 1.35L5.41 20z\"/>\n",
              "  </svg>\n",
              "      </button>\n",
              "      \n",
              "  <style>\n",
              "    .colab-df-container {\n",
              "      display:flex;\n",
              "      flex-wrap:wrap;\n",
              "      gap: 12px;\n",
              "    }\n",
              "\n",
              "    .colab-df-convert {\n",
              "      background-color: #E8F0FE;\n",
              "      border: none;\n",
              "      border-radius: 50%;\n",
              "      cursor: pointer;\n",
              "      display: none;\n",
              "      fill: #1967D2;\n",
              "      height: 32px;\n",
              "      padding: 0 0 0 0;\n",
              "      width: 32px;\n",
              "    }\n",
              "\n",
              "    .colab-df-convert:hover {\n",
              "      background-color: #E2EBFA;\n",
              "      box-shadow: 0px 1px 2px rgba(60, 64, 67, 0.3), 0px 1px 3px 1px rgba(60, 64, 67, 0.15);\n",
              "      fill: #174EA6;\n",
              "    }\n",
              "\n",
              "    [theme=dark] .colab-df-convert {\n",
              "      background-color: #3B4455;\n",
              "      fill: #D2E3FC;\n",
              "    }\n",
              "\n",
              "    [theme=dark] .colab-df-convert:hover {\n",
              "      background-color: #434B5C;\n",
              "      box-shadow: 0px 1px 3px 1px rgba(0, 0, 0, 0.15);\n",
              "      filter: drop-shadow(0px 1px 2px rgba(0, 0, 0, 0.3));\n",
              "      fill: #FFFFFF;\n",
              "    }\n",
              "  </style>\n",
              "\n",
              "      <script>\n",
              "        const buttonEl =\n",
              "          document.querySelector('#df-ce876b62-8761-477f-8c96-f213599092c3 button.colab-df-convert');\n",
              "        buttonEl.style.display =\n",
              "          google.colab.kernel.accessAllowed ? 'block' : 'none';\n",
              "\n",
              "        async function convertToInteractive(key) {\n",
              "          const element = document.querySelector('#df-ce876b62-8761-477f-8c96-f213599092c3');\n",
              "          const dataTable =\n",
              "            await google.colab.kernel.invokeFunction('convertToInteractive',\n",
              "                                                     [key], {});\n",
              "          if (!dataTable) return;\n",
              "\n",
              "          const docLinkHtml = 'Like what you see? Visit the ' +\n",
              "            '<a target=\"_blank\" href=https://colab.research.google.com/notebooks/data_table.ipynb>data table notebook</a>'\n",
              "            + ' to learn more about interactive tables.';\n",
              "          element.innerHTML = '';\n",
              "          dataTable['output_type'] = 'display_data';\n",
              "          await google.colab.output.renderOutput(dataTable, element);\n",
              "          const docLink = document.createElement('div');\n",
              "          docLink.innerHTML = docLinkHtml;\n",
              "          element.appendChild(docLink);\n",
              "        }\n",
              "      </script>\n",
              "    </div>\n",
              "  </div>\n",
              "  "
            ]
          },
          "metadata": {},
          "execution_count": 20
        }
      ]
    },
    {
      "cell_type": "code",
      "source": [
        "dataset1['Make'].value_counts().plot(kind='pie')"
      ],
      "metadata": {
        "colab": {
          "base_uri": "https://localhost:8080/",
          "height": 265
        },
        "id": "-k-NLXaxGJk7",
        "outputId": "4d29fa1e-9ce6-4040-d449-6a478dc43a4f"
      },
      "execution_count": null,
      "outputs": [
        {
          "output_type": "execute_result",
          "data": {
            "text/plain": [
              "<matplotlib.axes._subplots.AxesSubplot at 0x7f4d5be83110>"
            ]
          },
          "metadata": {},
          "execution_count": 30
        },
        {
          "output_type": "display_data",
          "data": {
            "text/plain": [
              "<Figure size 432x288 with 1 Axes>"
            ],
            "image/png": "[encoded data removed]"
          },
          "metadata": {}
        }
      ]
    },
    {
      "cell_type": "code",
      "source": [
        ""
      ],
      "metadata": {
        "id": "aK7QLM2LUHBQ"
      },
      "execution_count": null,
      "outputs": []
    },
    {
      "cell_type": "code",
      "source": [
        "dataset1['Make'].value_counts()"
      ],
      "metadata": {
        "colab": {
          "base_uri": "https://localhost:8080/"
        },
        "id": "ik56D1SqL6Kr",
        "outputId": "a236bfcc-b219-43b6-a4e0-b812e2841471"
      },
      "execution_count": null,
      "outputs": [
        {
          "output_type": "execute_result",
          "data": {
            "text/plain": [
              "TESLA         23\n",
              "SMART          8\n",
              "NISSAN         6\n",
              "MITSUBISHI     5\n",
              "FORD           4\n",
              "CHEVROLET      3\n",
              "BMW            2\n",
              "KIA            2\n",
              "Name: Make, dtype: int64"
            ]
          },
          "metadata": {},
          "execution_count": 31
        }
      ]
    },
    {
      "cell_type": "code",
      "source": [
        "dataset1['Size'].value_counts()"
      ],
      "metadata": {
        "id": "js5AnAJih3g9",
        "outputId": "ae314dcf-82a4-44fc-bb07-b48a418ee8f9",
        "colab": {
          "base_uri": "https://localhost:8080/"
        }
      },
      "execution_count": 4,
      "outputs": [
        {
          "output_type": "execute_result",
          "data": {
            "text/plain": [
              "FULL-SIZE                21\n",
              "SUBCOMPACT               10\n",
              "TWO-SEATER                8\n",
              "MID-SIZE                  6\n",
              "COMPACT                   4\n",
              "STATION WAGON - SMALL     2\n",
              "SUV - STANDARD            2\n",
              "Name: Size, dtype: int64"
            ]
          },
          "metadata": {},
          "execution_count": 4
        }
      ]
    },
    {
      "cell_type": "code",
      "source": [
        "dataset1['Make'].value_counts().plot(kind='pie')"
      ],
      "metadata": {
        "colab": {
          "base_uri": "https://localhost:8080/",
          "height": 265
        },
        "outputId": "4d29fa1e-9ce6-4040-d449-6a478dc43a4f",
        "id": "ICLep9xGUIqu"
      },
      "execution_count": null,
      "outputs": [
        {
          "output_type": "execute_result",
          "data": {
            "text/plain": [
              "<matplotlib.axes._subplots.AxesSubplot at 0x7f4d5be83110>"
            ]
          },
          "metadata": {},
          "execution_count": 30
        },
        {
          "output_type": "display_data",
          "data": {
            "text/plain": [
              "<Figure size 432x288 with 1 Axes>"
            ],
            "image/png": "[encoded data removed]"
          },
          "metadata": {}
        }
      ]
    },
    {
      "cell_type": "code",
      "source": [
        ""
      ],
      "metadata": {
        "id": "1-6SXo_4UMvU"
      },
      "execution_count": null,
      "outputs": []
    },
    {
      "cell_type": "code",
      "source": [
        "dataset1['Make'].value_counts().plot(kind='bar')\n"
      ],
      "metadata": {
        "colab": {
          "base_uri": "https://localhost:8080/",
          "height": 332
        },
        "outputId": "bd4a3e84-92ed-4b3b-9528-0ed5a5efd1bd",
        "id": "QtZ9MJ6RUTlz"
      },
      "execution_count": null,
      "outputs": [
        {
          "output_type": "execute_result",
          "data": {
            "text/plain": [
              "<matplotlib.axes._subplots.AxesSubplot at 0x7f4d5b8c6110>"
            ]
          },
          "metadata": {},
          "execution_count": 35
        },
        {
          "output_type": "display_data",
          "data": {
            "text/plain": [
              "<Figure size 432x288 with 1 Axes>"
            ],
            "image/png": "[encoded data removed]"
          },
          "metadata": {
            "needs_background": "light"
          }
        }
      ]
    },
    {
      "cell_type": "code",
      "source": [
        "dataset1['Size'].value_counts().plot(kind='bar')\n"
      ],
      "metadata": {
        "id": "QOVP0Sx3hvB1",
        "outputId": "17ab0607-b284-4745-9ad3-c99d604d2c8a",
        "colab": {
          "base_uri": "https://localhost:8080/",
          "height": 399
        }
      },
      "execution_count": 5,
      "outputs": [
        {
          "output_type": "execute_result",
          "data": {
            "text/plain": [
              "<matplotlib.axes._subplots.AxesSubplot at 0x7fb3795e3e50>"
            ]
          },
          "metadata": {},
          "execution_count": 5
        },
        {
          "output_type": "display_data",
          "data": {
            "text/plain": [
              "<Figure size 432x288 with 1 Axes>"
            ],
            "image/png": "[encoded data removed]"
          },
          "metadata": {
            "needs_background": "light"
          }
        }
      ]
    }
  ]
}